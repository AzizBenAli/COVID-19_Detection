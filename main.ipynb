{
 "cells": [
  {
   "cell_type": "code",
   "execution_count": 1,
   "metadata": {},
   "outputs": [
    {
     "name": "stderr",
     "output_type": "stream",
     "text": [
      "C:\\Users\\benal\\AppData\\Local\\Packages\\PythonSoftwareFoundation.Python.3.11_qbz5n2kfra8p0\\LocalCache\\local-packages\\Python311\\site-packages\\torchvision\\io\\image.py:13: UserWarning: Failed to load image Python extension: 'Could not find module 'C:\\Users\\benal\\AppData\\Local\\Packages\\PythonSoftwareFoundation.Python.3.11_qbz5n2kfra8p0\\LocalCache\\local-packages\\Python311\\site-packages\\torchvision\\image.pyd' (or one of its dependencies). Try using the full path with constructor syntax.'If you don't plan on using image functionality from `torchvision.io`, you can ignore this warning. Otherwise, there might be something wrong with your environment. Did you have `libjpeg` or `libpng` installed before building `torchvision` from source?\n",
      "  warn(\n"
     ]
    }
   ],
   "source": [
    "# Libraries for general purpose\n",
    "import pandas as pd\n",
    "import numpy as np\n",
    "import matplotlib.pyplot as plt\n",
    "from skimage.io import imread\n",
    "from skimage.transform import rotate, resize\n",
    "import os \n",
    "from sklearn.model_selection import train_test_split\n",
    "import torchvision.models as models"
   ]
  },
  {
   "cell_type": "code",
   "execution_count": 3,
   "metadata": {},
   "outputs": [],
   "source": [
    "folder_path = r\"C:\\Users\\benal\\xray_dataset_covid19\\train\\NORMAL\" \n",
    "train_img = []\n",
    "train_img_values = []\n",
    "train_y=[]\n",
    "for filename in os.listdir(folder_path):\n",
    "    image_path = folder_path+'/' + filename \n",
    "    img = imread(image_path)\n",
    "    img = img/255\n",
    "    img = resize(img, output_shape=(3, 224, 224),\n",
    "                 mode='constant', anti_aliasing=True)\n",
    "    train_img.append(img)\n",
    "    train_y.append(1)\n",
    "train_x1 = np.array(train_img)\n",
    "train_y1=np.array(train_y)"
   ]
  },
  {
   "cell_type": "code",
   "execution_count": 4,
   "metadata": {},
   "outputs": [],
   "source": [
    "folder_path = r\"C:\\Users\\benal\\xray_dataset_covid19\\train\\PNEUMONIA\" \n",
    "train_img = []\n",
    "train_img_values = []\n",
    "train_y=[]\n",
    "for filename in os.listdir(folder_path):\n",
    "    image_path = folder_path+'/' + filename \n",
    "    img = imread(image_path)\n",
    "    img = img/255\n",
    "    img = resize(img, output_shape=(3, 224, 224),\n",
    "                 mode='constant', anti_aliasing=True)\n",
    "    train_img.append(img)\n",
    "    train_y.append(0)\n",
    "train_x2 = np.array(train_img)\n",
    "train_y2=np.array(train_y)"
   ]
  },
  {
   "cell_type": "code",
   "execution_count": 5,
   "metadata": {},
   "outputs": [],
   "source": [
    "train_x = np.concatenate((train_x1, train_x2), axis=0)\n",
    "train_y = np.concatenate((train_y1, train_y2), axis=0)\n",
    "random_indices = np.random.permutation(train_x.shape[0])\n",
    "train_x = train_x[random_indices]\n",
    "train_y = train_y[random_indices]\n"
   ]
  },
  {
   "cell_type": "code",
   "execution_count": 9,
   "metadata": {},
   "outputs": [],
   "source": [
    "folder_path = r\"C:\\Users\\benal\\xray_dataset_covid19\\test\\NORMAL\" \n",
    "test_img = []\n",
    "test_img_values = []\n",
    "test_y=[]\n",
    "for filename in os.listdir(folder_path):\n",
    "    image_path = folder_path+'/' + filename \n",
    "    img = imread(image_path)\n",
    "    img = img/255\n",
    "    img = resize(img, output_shape=(3, 224, 224),\n",
    "                 mode='constant', anti_aliasing=True)\n",
    "    test_img.append(img)\n",
    "    test_y.append(1)\n",
    "test_x1 = np.array(test_img)\n",
    "test_y1=np.array(test_y)"
   ]
  },
  {
   "cell_type": "code",
   "execution_count": 11,
   "metadata": {},
   "outputs": [],
   "source": [
    "folder_path = r\"C:\\Users\\benal\\xray_dataset_covid19\\test\\PNEUMONIA\" \n",
    "test_img = []\n",
    "test_img_values = []\n",
    "test_y=[]\n",
    "for filename in os.listdir(folder_path):\n",
    "    image_path = folder_path+'/' + filename \n",
    "    img = imread(image_path)\n",
    "    img = img/255\n",
    "    img = resize(img, output_shape=(3, 224, 224),\n",
    "                 mode='constant', anti_aliasing=True)\n",
    "    test_img.append(img)\n",
    "    test_y.append(0)\n",
    "test_x2 = np.array(test_img)\n",
    "test_y2=np.array(test_y)"
   ]
  },
  {
   "cell_type": "code",
   "execution_count": 12,
   "metadata": {},
   "outputs": [],
   "source": [
    "final_train_x = []\n",
    "final_train_y = []\n",
    "\n",
    "#train_x.shape[0]\n",
    "for i in range(train_x.shape[0]):\n",
    "    final_train_x.append(train_x[i])\n",
    "    final_train_x.append(rotate(train_x[i], angle=45, mode = 'wrap'))\n",
    "    final_train_x.append(np.fliplr(train_x[i]))\n",
    "    for j in range(3):\n",
    "      final_train_y.append(train_y[i])\n",
    "\n",
    "train_x = np.array(final_train_x)\n",
    "train_y = np.array(final_train_y)"
   ]
  },
  {
   "cell_type": "code",
   "execution_count": 14,
   "metadata": {},
   "outputs": [],
   "source": [
    "test_x = np.concatenate((test_x1, test_x2), axis=0)\n",
    "test_y = np.concatenate((test_y1, test_y2), axis=0)\n",
    "random_indices = np.random.permutation(test_x.shape[0])\n",
    "test_x = test_x[random_indices]\n",
    "test_y =test_y[random_indices]"
   ]
  },
  {
   "cell_type": "code",
   "execution_count": 15,
   "metadata": {},
   "outputs": [],
   "source": [
    "final_test_x = []\n",
    "final_test_y = []\n",
    "\n",
    "#train_x.shape[0]\n",
    "for i in range(test_x.shape[0]):\n",
    "    final_test_x.append(test_x[i])\n",
    "    final_test_x.append(rotate(train_x[i], angle=45, mode = 'wrap'))\n",
    "    final_test_x.append(np.fliplr(train_x[i]))\n",
    "    for j in range(3):\n",
    "      final_train_y.append(train_y[i])\n",
    "\n",
    "test_x = np.array(final_test_x)\n",
    "test_y = np.array(final_test_y)"
   ]
  },
  {
   "cell_type": "code",
   "execution_count": 16,
   "metadata": {},
   "outputs": [],
   "source": [
    "import torch \n",
    "train_x = train_x.reshape(train_x.shape[0], 3, 224, 224)  \n",
    "train_x  = torch.from_numpy(train_x)\n",
    "train_x = train_x.float()\n",
    "train_y = train_y.astype(int)\n",
    "train_y = torch.from_numpy(train_y)\n",
    " \n",
    "test_x = test_x.reshape(test_x.shape[0], 3, 224, 224)  \n",
    "test_x  = torch.from_numpy(test_x)\n",
    "test_x = test_x.float()\n",
    "test_y = test_y.astype(int)\n",
    "test_y = torch.from_numpy(test_y)\n"
   ]
  },
  {
   "cell_type": "code",
   "execution_count": 23,
   "metadata": {},
   "outputs": [],
   "source": [
    "import torch.optim as optim\n",
    "import torch.nn as nn\n",
    "def CNN_Model(pretrained=True):\n",
    "    model = models.densenet121(pretrained=pretrained) # Returns Defined Densenet model with weights trained on ImageNet\n",
    "    num_ftrs = model.classifier.in_features # Get the number of features output from CNN layer\n",
    "    model.classifier = nn.Linear(num_ftrs, 2) # Overwrites the Classifier layer with custom defined layer for transfer learning\n",
    "    model = model.to(device) # Transfer the Model to GPU if available\n",
    "    return model\n",
    "\n",
    "model = CNN_Model(pretrained=True)\n",
    "\n",
    "# specify loss function (categorical cross-entropy loss)\n",
    "criterion = nn.CrossEntropyLoss() \n",
    "\n",
    "# Specify optimizer which performs Gradient Descent\n",
    "optimizer = optim.Adam(model.parameters(), lr=1e-3)\n",
    "# Decay LR by a factor of 0.1 every 7 epochs\n",
    "exp_lr_scheduler = optim.lr_scheduler.StepLR(optimizer, step_size=7, gamma=0.1) # Learning Scheduler\n"
   ]
  },
  {
   "cell_type": "code",
   "execution_count": null,
   "metadata": {},
   "outputs": [],
   "source": []
  },
  {
   "cell_type": "code",
   "execution_count": 24,
   "metadata": {},
   "outputs": [],
   "source": [
    "batch_size = 32\n",
    "n_epochs = 1\n",
    "\n",
    "for epoch in range(1, n_epochs+1):\n",
    "\n",
    "    train_loss = 0.0\n",
    "    permutation = torch.randperm(train_x.size()[0])\n",
    "    training_loss = []\n",
    "    for i in range(0,train_x.size()[0], batch_size):\n",
    "\n",
    "        indices = permutation[i:i+batch_size]\n",
    "        batch_x, batch_y = train_x[indices], train_y[indices]\n",
    "        \n",
    "        if torch.cuda.is_available():\n",
    "            batch_x, batch_y = batch_x.cuda(), batch_y.cuda()\n",
    "        \n",
    "        optimizer.zero_grad()\n",
    "        outputs = model(batch_x)\n",
    "        loss = criterion(outputs,batch_y.long())\n",
    "\n",
    "        loss.backward()\n",
    "        optimizer.step() \n",
    "        \n",
    "    "
   ]
  },
  {
   "cell_type": "code",
   "execution_count": 25,
   "metadata": {},
   "outputs": [
    {
     "name": "stdout",
     "output_type": "stream",
     "text": [
      "Accuracy: 1.0\n"
     ]
    }
   ],
   "source": [
    "from sklearn.metrics import accuracy_score\n",
    "\n",
    "permutation = torch.randperm(test_x.size()[0])\n",
    "y_pred_list = []\n",
    "y_test_list=[]\n",
    "for i in range(0,test_x.size()[0], batch_size):\n",
    "\n",
    "        indices = permutation[i:i+batch_size]\n",
    "        batch_x, batch_y = train_x[indices], train_y[indices]\n",
    "        \n",
    "        if torch.cuda.is_available():\n",
    "            batch_x, batch_y = batch_x.cuda(), batch_y.cuda()\n",
    "        output = model(batch_x)\n",
    "        y_pred_test = torch.argmax(output, dim=1)\n",
    "        y_pred_list.extend(y_pred_test.squeeze().tolist())\n",
    "        y_test_list.extend(batch_y.squeeze().tolist())\n",
    "        \n",
    "accuracy = accuracy_score(y_test_list, y_pred_list)\n",
    "print(f\"Accuracy: {accuracy}\")\n",
    "         "
   ]
  }
 ],
 "metadata": {
  "kernelspec": {
   "display_name": "Python 3",
   "language": "python",
   "name": "python3"
  },
  "language_info": {
   "codemirror_mode": {
    "name": "ipython",
    "version": 3
   },
   "file_extension": ".py",
   "mimetype": "text/x-python",
   "name": "python",
   "nbconvert_exporter": "python",
   "pygments_lexer": "ipython3",
   "version": "3.11.4"
  }
 },
 "nbformat": 4,
 "nbformat_minor": 4
}
