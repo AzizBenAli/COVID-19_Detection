{
 "cells": [
  {
   "cell_type": "code",
   "execution_count": 1,
   "metadata": {},
   "outputs": [
    {
     "name": "stderr",
     "output_type": "stream",
     "text": [
      "C:\\Users\\benal\\AppData\\Local\\Packages\\PythonSoftwareFoundation.Python.3.11_qbz5n2kfra8p0\\LocalCache\\local-packages\\Python311\\site-packages\\torchvision\\io\\image.py:13: UserWarning: Failed to load image Python extension: 'Could not find module 'C:\\Users\\benal\\AppData\\Local\\Packages\\PythonSoftwareFoundation.Python.3.11_qbz5n2kfra8p0\\LocalCache\\local-packages\\Python311\\site-packages\\torchvision\\image.pyd' (or one of its dependencies). Try using the full path with constructor syntax.'If you don't plan on using image functionality from `torchvision.io`, you can ignore this warning. Otherwise, there might be something wrong with your environment. Did you have `libjpeg` or `libpng` installed before building `torchvision` from source?\n",
      "  warn(\n"
     ]
    }
   ],
   "source": [
    "# Libraries for general purpose\n",
    "import pandas as pd\n",
    "import numpy as np\n",
    "import matplotlib.pyplot as plt\n",
    "from skimage.io import imread\n",
    "from skimage.transform import rotate, resize\n",
    "import os \n",
    "from sklearn.model_selection import train_test_split\n",
    "import torchvision.models as models"
   ]
  },
  {
   "cell_type": "code",
   "execution_count": 3,
   "metadata": {},
   "outputs": [],
   "source": [
    "folder_path = r\"C:\\Users\\benal\\COVID-19_Detection\\xray_dataset_covid19\\train\\NORMAL\"\n",
    "\n",
    "# Initialize empty lists to store images and corresponding labels\n",
    "train_img = []       # List to store preprocessed images\n",
    "train_y = []         # List to store labels (1 for NORMAL class)\n",
    "\n",
    "# Loop through each file in the folder\n",
    "for filename in os.listdir(folder_path):\n",
    "    # Create the image path by joining the folder path and the file name\n",
    "    image_path = os.path.join(folder_path, filename)\n",
    "    \n",
    "    # Read the image using skimage's imread function\n",
    "    img = imread(image_path)\n",
    "    \n",
    "    # Normalize the image pixel values to be between 0 and 1\n",
    "    img = img / 255\n",
    "    \n",
    "    # Resize the image to the desired output shape (3 channels, 224x224)\n",
    "    img = resize(img, output_shape=(3, 224, 224), mode='constant', anti_aliasing=True)\n",
    "    \n",
    "    # Append the preprocessed image to the 'train_img' list\n",
    "    train_img.append(img)\n",
    "    \n",
    "    # Since this loop is for NORMAL class images, append label '1' to 'train_y'\n",
    "    train_y.append(1)\n",
    "\n",
    "# Convert the lists to numpy arrays\n",
    "train_x1 = np.array(train_img)\n",
    "train_y1 = np.array(train_y)"
   ]
  },
  {
   "cell_type": "code",
   "execution_count": 4,
   "metadata": {},
   "outputs": [],
   "source": [
    "folder_path = r\"C:\\Users\\benal\\COVID-19_Detection\\xray_dataset_covid19\\train\\PNEUMONIA\"\n",
    "\n",
    "# Initialize empty lists to store images and corresponding labels\n",
    "train_img = []       # List to store preprocessed images\n",
    "train_y = []         # List to store labels (0 for PNEUMONIA class)\n",
    "\n",
    "# Loop through each file in the folder\n",
    "for filename in os.listdir(folder_path):\n",
    "    # Create the image path by joining the folder path and the file name\n",
    "    image_path = os.path.join(folder_path, filename)\n",
    "    \n",
    "    # Read the image using skimage's imread function\n",
    "    img = imread(image_path)\n",
    "    \n",
    "    # Normalize the image pixel values to be between 0 and 1\n",
    "    img = img / 255\n",
    "    \n",
    "    # Resize the image to the desired output shape (3 channels, 224x224)\n",
    "    img = resize(img, output_shape=(3, 224, 224), mode='constant', anti_aliasing=True)\n",
    "    \n",
    "    # Append the preprocessed image to the 'train_img' list\n",
    "    train_img.append(img)\n",
    "    \n",
    "    # Since this loop is for PNEUMONIA class images, append label '0' to 'train_y'\n",
    "    train_y.append(0)\n",
    "\n",
    "# Convert the lists to numpy arrays\n",
    "train_x2 = np.array(train_img)\n",
    "train_y2 = np.array(train_y)"
   ]
  },
  {
   "cell_type": "code",
   "execution_count": 5,
   "metadata": {},
   "outputs": [],
   "source": [
    "# Concatenate 'train_x1' and 'train_x2' along axis 0 to combine the image data\n",
    "train_x = np.concatenate((train_x1, train_x2), axis=0)\n",
    "\n",
    "# Concatenate 'train_y1' and 'train_y2' along axis 0 to combine the corresponding labels\n",
    "train_y = np.concatenate((train_y1, train_y2), axis=0)\n",
    "\n",
    "# Generate random permutation of indices to shuffle the data\n",
    "random_indices = np.random.permutation(train_x.shape[0])\n",
    "\n",
    "# Shuffle 'train_x' and 'train_y' arrays based on the random permutation\n",
    "train_x = train_x[random_indices]\n",
    "train_y = train_y[random_indices]\n"
   ]
  },
  {
   "cell_type": "code",
   "execution_count": 7,
   "metadata": {},
   "outputs": [],
   "source": [
    "folder_path = r\"C:\\Users\\benal\\COVID-19_Detection\\xray_dataset_covid19\\test\\NORMAL\"\n",
    "\n",
    "# Initialize empty lists to store test images and corresponding labels\n",
    "test_img = []       # List to store preprocessed test images\n",
    "test_y = []         # List to store labels (1 for NORMAL class)\n",
    "\n",
    "# Loop through each file in the folder\n",
    "for filename in os.listdir(folder_path):\n",
    "    # Create the image path by joining the folder path and the file name\n",
    "    image_path = os.path.join(folder_path, filename)\n",
    "    \n",
    "    # Read the image using skimage's imread function\n",
    "    img = imread(image_path)\n",
    "    \n",
    "    # Normalize the image pixel values to be between 0 and 1\n",
    "    img = img / 255\n",
    "    \n",
    "    # Resize the image to the desired output shape (3 channels, 224x224)\n",
    "    img = resize(img, output_shape=(3, 224, 224), mode='constant', anti_aliasing=True)\n",
    "    \n",
    "    # Append the preprocessed image to the 'test_img' list\n",
    "    test_img.append(img)\n",
    "    \n",
    "    # Since this loop is for NORMAL class images, append label '1' to 'test_y'\n",
    "    test_y.append(1)\n",
    "\n",
    "# Convert the lists to numpy arrays\n",
    "test_x1 = np.array(test_img)\n",
    "test_y1 = np.array(test_y)"
   ]
  },
  {
   "cell_type": "code",
   "execution_count": 8,
   "metadata": {},
   "outputs": [],
   "source": [
    "folder_path = r\"C:\\Users\\benal\\COVID-19_Detection\\xray_dataset_covid19\\test\\PNEUMONIA\" \n",
    "test_img = []\n",
    "test_img_values = []\n",
    "test_y=[]\n",
    "for filename in os.listdir(folder_path):\n",
    "    image_path = folder_path+'/' + filename \n",
    "    img = imread(image_path)\n",
    "    img = img/255\n",
    "    img = resize(img, output_shape=(3, 224, 224),\n",
    "                 mode='constant', anti_aliasing=True)\n",
    "    test_img.append(img)\n",
    "    test_y.append(0)\n",
    "test_x2 = np.array(test_img)\n",
    "test_y2=np.array(test_y)"
   ]
  },
  {
   "cell_type": "code",
   "execution_count": 9,
   "metadata": {},
   "outputs": [],
   "source": [
    "folder_path = r\"C:\\Users\\benal\\COVID-19_Detection\\xray_dataset_covid19\\test\\PNEUMONIA\"\n",
    "\n",
    "# Initialize empty lists to store test images and corresponding labels\n",
    "test_img = []       # List to store preprocessed test images\n",
    "test_y = []         # List to store labels (0 for PNEUMONIA class)\n",
    "\n",
    "# Loop through each file in the folder\n",
    "for filename in os.listdir(folder_path):\n",
    "    # Create the image path by joining the folder path and the file name\n",
    "    image_path = os.path.join(folder_path, filename)\n",
    "    \n",
    "    # Read the image using skimage's imread function\n",
    "    img = imread(image_path)\n",
    "    \n",
    "    # Normalize the image pixel values to be between 0 and 1\n",
    "    img = img / 255\n",
    "    \n",
    "    # Resize the image to the desired output shape (3 channels, 224x224)\n",
    "    img = resize(img, output_shape=(3, 224, 224), mode='constant', anti_aliasing=True)\n",
    "    \n",
    "    # Append the preprocessed image to the 'test_img' list\n",
    "    test_img.append(img)\n",
    "    \n",
    "    # Since this loop is for PNEUMONIA class images, append label '0' to 'test_y'\n",
    "    test_y.append(0)\n",
    "\n",
    "# Convert the lists to numpy arrays\n",
    "test_x2 = np.array(test_img)\n",
    "test_y2 = np.array(test_y)"
   ]
  },
  {
   "cell_type": "code",
   "execution_count": 10,
   "metadata": {},
   "outputs": [],
   "source": [
    "test_x = np.concatenate((test_x1, test_x2), axis=0)\n",
    "\n",
    "# Concatenate 'test_y1' and 'test_y2' along axis 0 to combine the corresponding test labels\n",
    "test_y = np.concatenate((test_y1, test_y2), axis=0)\n",
    "\n",
    "# Generate random permutation of indices to shuffle the test data\n",
    "random_indices = np.random.permutation(test_x.shape[0])\n",
    "\n",
    "# Shuffle 'test_x' and 'test_y' arrays based on the random permutation\n",
    "test_x = test_x[random_indices]\n",
    "test_y = test_y[random_indices]"
   ]
  },
  {
   "cell_type": "code",
   "execution_count": 11,
   "metadata": {},
   "outputs": [],
   "source": [
    "final_test_x = []  # List to store augmented test images\n",
    "final_test_y = []  # List to store augmented test labels\n",
    "\n",
    "# Loop through each test image\n",
    "for i in range(test_x.shape[0]):\n",
    "    # Append the original test image to the list of augmented test images\n",
    "    final_test_x.append(test_x[i])\n",
    "    \n",
    "    # Rotate the original test image by 45 degrees and append to the list\n",
    "    final_test_x.append(rotate(test_x[i], angle=45, mode='wrap'))\n",
    "    \n",
    "    # Flip the original test image horizontally (left to right) and append to the list\n",
    "    final_test_x.append(np.fliplr(test_x[i]))\n",
    "    \n",
    "    # For each original test image, append its corresponding label three times to match the augmented data\n",
    "    for j in range(3):\n",
    "        final_test_y.append(test_y[i])\n",
    "\n",
    "# Convert the lists to numpy arrays\n",
    "test_x = np.array(final_test_x)\n",
    "test_y = np.array(final_test_y)"
   ]
  },
  {
   "cell_type": "code",
   "execution_count": 12,
   "metadata": {},
   "outputs": [],
   "source": [
    "import torch\n",
    "\n",
    "# Reshape 'train_x' to match the expected input shape for the model (number of samples, channels, height, width)\n",
    "train_x = train_x.reshape(train_x.shape[0], 3, 224, 224)\n",
    "\n",
    "# Convert 'train_x' from numpy array to PyTorch tensor\n",
    "train_x = torch.from_numpy(train_x)\n",
    "\n",
    "# Convert the data type of 'train_x' to float (required for neural network inputs)\n",
    "train_x = train_x.float()\n",
    "\n",
    "# Convert 'train_y' from integer type (int) to PyTorch tensor\n",
    "train_y = train_y.astype(int)\n",
    "train_y = torch.from_numpy(train_y)\n",
    "\n",
    "# Reshape 'test_x' to match the expected input shape for the model (number of samples, channels, height, width)\n",
    "test_x = test_x.reshape(test_x.shape[0], 3, 224, 224)\n",
    "\n",
    "# Convert 'test_x' from numpy array to PyTorch tensor\n",
    "test_x = torch.from_numpy(test_x)\n",
    "\n",
    "# Convert the data type of 'test_x' to float (required for neural network inputs)\n",
    "test_x = test_x.float()\n",
    "\n",
    "# Convert 'test_y' from integer type (int) to PyTorch tensor\n",
    "test_y = test_y.astype(int)\n",
    "test_y = torch.from_numpy(test_y)\n"
   ]
  },
  {
   "cell_type": "code",
   "execution_count": 13,
   "metadata": {},
   "outputs": [
    {
     "name": "stderr",
     "output_type": "stream",
     "text": [
      "C:\\Users\\benal\\AppData\\Local\\Packages\\PythonSoftwareFoundation.Python.3.11_qbz5n2kfra8p0\\LocalCache\\local-packages\\Python311\\site-packages\\torchvision\\models\\_utils.py:208: UserWarning: The parameter 'pretrained' is deprecated since 0.13 and may be removed in the future, please use 'weights' instead.\n",
      "  warnings.warn(\n",
      "C:\\Users\\benal\\AppData\\Local\\Packages\\PythonSoftwareFoundation.Python.3.11_qbz5n2kfra8p0\\LocalCache\\local-packages\\Python311\\site-packages\\torchvision\\models\\_utils.py:223: UserWarning: Arguments other than a weight enum or `None` for 'weights' are deprecated since 0.13 and may be removed in the future. The current behavior is equivalent to passing `weights=DenseNet121_Weights.IMAGENET1K_V1`. You can also use `weights=DenseNet121_Weights.DEFAULT` to get the most up-to-date weights.\n",
      "  warnings.warn(msg)\n"
     ]
    }
   ],
   "source": [
    "import torch.optim as optim\n",
    "import torch.nn as nn\n",
    "def CNN_Model(pretrained=True):\n",
    "    model = models.densenet121(pretrained=pretrained) # Returns Defined Densenet model with weights trained on ImageNet\n",
    "    num_ftrs = model.classifier.in_features # Get the number of features output from CNN layer\n",
    "    model.classifier = nn.Linear(num_ftrs, 2) # Overwrites the Classifier layer with custom defined layer for transfer learning\n",
    "    return model\n",
    "\n",
    "model = CNN_Model(pretrained=True)\n",
    "\n",
    "# specify loss function (categorical cross-entropy loss)\n",
    "criterion = nn.CrossEntropyLoss() \n",
    "\n",
    "# Specify optimizer which performs Gradient Descent\n",
    "optimizer = optim.Adam(model.parameters(), lr=1e-3)\n",
    "# Decay LR by a factor of 0.1 every 7 epochs\n",
    "exp_lr_scheduler = optim.lr_scheduler.StepLR(optimizer, step_size=7, gamma=0.1) # Learning Scheduler\n"
   ]
  },
  {
   "cell_type": "code",
   "execution_count": 14,
   "metadata": {},
   "outputs": [],
   "source": [
    "batch_size = 64\n",
    "n_epochs = 1\n",
    "\n",
    "# Loop over each epoch\n",
    "for epoch in range(1, n_epochs + 1):\n",
    "\n",
    "    # Initialize the total training loss for this epoch\n",
    "    train_loss = 0.0\n",
    "\n",
    "    # Generate a random permutation of indices for shuffling the training data\n",
    "    permutation = torch.randperm(train_x.size()[0])\n",
    "\n",
    "    # List to store individual batch losses during this epoch\n",
    "    training_loss = []\n",
    "\n",
    "    # Loop through the training data in batches\n",
    "    for i in range(0, train_x.size()[0], batch_size):\n",
    "        # Extract the indices for the current batch\n",
    "        indices = permutation[i:i + batch_size]\n",
    "        # Get the batch input data and corresponding labels\n",
    "        batch_x, batch_y = train_x[indices], train_y[indices]\n",
    "\n",
    "        # Check if CUDA (GPU) is available and move data to the GPU if it is\n",
    "        if torch.cuda.is_available():\n",
    "            batch_x, batch_y = batch_x.cuda(), batch_y.cuda()\n",
    "\n",
    "        # Zero the gradients of the model parameters\n",
    "        optimizer.zero_grad()\n",
    "\n",
    "        # Forward pass through the model to obtain predictions\n",
    "        outputs = model(batch_x)\n",
    "\n",
    "        # Calculate the loss using the specified criterion (e.g., CrossEntropyLoss)\n",
    "        loss = criterion(outputs, batch_y.long())\n",
    "\n",
    "        # Backpropagation: Compute gradients of the loss with respect to model parameters\n",
    "        loss.backward()\n",
    "\n",
    "        # Update the model parameters using the computed gradients\n",
    "        optimizer.step()\n",
    "\n",
    "        # Accumulate the batch loss for this epoch\n",
    "        training_loss.append(loss.item())\n",
    "\n",
    "# After the epoch is finished, calculate the average training loss for this epoch\n",
    "# (You can use this value for monitoring the training progress)\n",
    "average_train_loss = sum(training_loss) / len(training_loss)    "
   ]
  },
  {
   "cell_type": "code",
   "execution_count": 16,
   "metadata": {},
   "outputs": [
    {
     "name": "stdout",
     "output_type": "stream",
     "text": [
      "Accuracy: 1.0\n"
     ]
    }
   ],
   "source": [
    "from sklearn.metrics import accuracy_score, confusion_matrix\n",
    "\n",
    "permutation = torch.randperm(test_x.size()[0])\n",
    "y_pred_list = []\n",
    "y_test_list=[]\n",
    "for i in range(0,test_x.size()[0], batch_size):\n",
    "\n",
    "        indices = permutation[i:i+batch_size]\n",
    "        batch_x, batch_y = train_x[indices], train_y[indices]\n",
    "        \n",
    "        if torch.cuda.is_available():\n",
    "            batch_x, batch_y = batch_x.cuda(), batch_y.cuda()\n",
    "        output = model(batch_x)\n",
    "        y_pred_test = torch.argmax(output, dim=1)\n",
    "        y_pred_list.extend(y_pred_test.squeeze().tolist())\n",
    "        y_test_list.extend(batch_y.squeeze().tolist())\n",
    "        \n",
    "accuracy = accuracy_score(y_test_list, y_pred_list)\n",
    "print(f\"Accuracy: {accuracy}\")\n",
    "         "
   ]
  },
  {
   "cell_type": "code",
   "execution_count": 20,
   "metadata": {},
   "outputs": [
    {
     "data": {
      "image/png": "[encoded data removed]",
      "text/plain": [
       "<Figure size 1000x800 with 2 Axes>"
      ]
     },
     "metadata": {},
     "output_type": "display_data"
    }
   ],
   "source": [
    "import seaborn as sns\n",
    "cm = confusion_matrix(y_test_list, y_pred_list)\n",
    "\n",
    "# Plot confusion matrix\n",
    "plt.figure(figsize=(10, 8))\n",
    "sns.heatmap(cm, annot=True, fmt=\"d\", cmap=\"Blues\", xticklabels=[str(i) for i in range(len(cm))],\n",
    "            yticklabels=[str(i) for i in range(len(cm))])\n",
    "plt.xlabel('Predicted Labels')\n",
    "plt.ylabel('True Labels')\n",
    "plt.title('Confusion Matrix')\n",
    "plt.savefig(\"confusion_matrix.pdf\", format=\"pdf\")\n",
    "plt.show()\n",
    "plt.close()"
   ]
  },
  {
   "cell_type": "code",
   "execution_count": 25,
   "metadata": {},
   "outputs": [
    {
     "name": "stdout",
     "output_type": "stream",
     "text": [
      "Model saved successfully.\n"
     ]
    }
   ],
   "source": [
    "model_filename = \"MODEL.pt\"  # Replace \"your_model_name\" with your desired filename\n",
    "model_path = os.path.join( model_filename)\n",
    "\n",
    "# Save the model's state_dict to the specified path\n",
    "torch.save(model.state_dict(), model_path)\n",
    "\n",
    "print(\"Model saved successfully.\")"
   ]
  }
 ],
 "metadata": {
  "kernelspec": {
   "display_name": "Python 3",
   "language": "python",
   "name": "python3"
  },
  "language_info": {
   "codemirror_mode": {
    "name": "ipython",
    "version": 3
   },
   "file_extension": ".py",
   "mimetype": "text/x-python",
   "name": "python",
   "nbconvert_exporter": "python",
   "pygments_lexer": "ipython3",
   "version": "3.11.4"
  }
 },
 "nbformat": 4,
 "nbformat_minor": 4
}
